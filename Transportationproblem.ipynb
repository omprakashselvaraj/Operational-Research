{
 "cells": [
  {
   "cell_type": "code",
   "execution_count": 13,
   "metadata": {},
   "outputs": [],
   "source": [
    "def north_west_corner(supply, demand, cost):\n",
    "    supply_copy = supply.copy()\n",
    "    demand_copy = demand.copy()\n",
    "    i = 0\n",
    "    j = 0\n",
    "    bfs = []\n",
    "    while len(bfs) < len(supply) + len(demand) - 1:\n",
    "        s = supply_copy[i]\n",
    "        d = demand_copy[j]\n",
    "        v = min(s, d)\n",
    "        supply_copy[i] -= v\n",
    "        demand_copy[j] -= v\n",
    "        bfs.append(cost[i][j]*v)\n",
    "        if supply_copy[i] == 0 and i < len(supply) - 1:\n",
    "            i += 1\n",
    "        elif demand_copy[j] == 0 and j < len(demand) - 1:\n",
    "            j += 1\n",
    "    return bfs"
   ]
  },
  {
   "cell_type": "code",
   "execution_count": 14,
   "metadata": {},
   "outputs": [
    {
     "name": "stdout",
     "output_type": "stream",
     "text": [
      "Enter no of rows: 2\n",
      "Enter no of columns: 2\n",
      "Enter Supply: 1\n",
      "Enter Supply: 3\n",
      "Enter Demand: 2\n",
      "Enter Demand: 2\n",
      "Enter value: 1\n",
      "Enter value: 2\n",
      "Enter value: 3\n",
      "Enter value: 4\n",
      "The given transportation problem is Balanced\n",
      "The initial cost is  12\n"
     ]
    }
   ],
   "source": [
    "if __name__==\"__main__\":\n",
    "    m=int(input(\"Enter no of rows: \"))\n",
    "    n=int(input(\"Enter no of columns: \"))\n",
    "    supply=[]\n",
    "    demand=[]\n",
    "    cost=[]\n",
    "    for i in range(m):\n",
    "        b=int(input(\"Enter Supply: \"))\n",
    "        supply.append(b)\n",
    "    for j in range(n):\n",
    "        c=int(input(\"Enter Demand: \"))\n",
    "        demand.append(c)\n",
    "    for i in range(0,m,1):\n",
    "        table=[]\n",
    "        for j in range(0,n,1):\n",
    "            a=int(input(\"Enter value: \"))\n",
    "            table.append(a)\n",
    "        cost.append(table)\n",
    "    if  sum(supply)==sum(demand):\n",
    "        print(\"The given transportation problem is Balanced\")\n",
    "        res=north_west_corner(supply,demand,cost)\n",
    "        print(\"The initial cost is \",sum(res))\n",
    "    else:\n",
    "        print(\"The given transportation problem is Unbalanced!!!\")"
   ]
  },
  {
   "cell_type": "code",
   "execution_count": 9,
   "metadata": {},
   "outputs": [
    {
     "name": "stdout",
     "output_type": "stream",
     "text": [
      "((0, 0), 30)\n"
     ]
    }
   ],
   "source": [
    "print(bfs[0])"
   ]
  },
  {
   "cell_type": "code",
   "execution_count": null,
   "metadata": {},
   "outputs": [],
   "source": []
  }
 ],
 "metadata": {
  "kernelspec": {
   "display_name": "Python 3",
   "language": "python",
   "name": "python3"
  },
  "language_info": {
   "codemirror_mode": {
    "name": "ipython",
    "version": 3
   },
   "file_extension": ".py",
   "mimetype": "text/x-python",
   "name": "python",
   "nbconvert_exporter": "python",
   "pygments_lexer": "ipython3",
   "version": "3.8.5"
  }
 },
 "nbformat": 4,
 "nbformat_minor": 4
}
